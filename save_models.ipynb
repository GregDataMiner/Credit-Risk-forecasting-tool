{
 "cells": [
  {
   "cell_type": "code",
   "execution_count": 1,
   "id": "01e569dd-b817-4b0f-8738-e08f802ee6b7",
   "metadata": {},
   "outputs": [],
   "source": [
    "\n",
    "import os\n",
    "import pandas as pd\n",
    "import numpy as np\n",
    "import joblib\n",
    "import xgboost as xgb\n",
    "from sklearn.model_selection import train_test_split\n",
    "from sklearn.preprocessing import OneHotEncoder, StandardScaler\n",
    "from sklearn.metrics import accuracy_score\n"
   ]
  },
  {
   "cell_type": "code",
   "execution_count": 2,
   "id": "607e0faf-c565-4130-b54b-a2bac4503892",
   "metadata": {},
   "outputs": [
    {
     "name": "stdout",
     "output_type": "stream",
     "text": [
      "✅ Colonnes créées avec succès !\n",
      "  age_group income_group loan_amount_group\n",
      "1     20-25          low             small\n",
      "2     20-25          low            medium\n",
      "3     20-25       middle        very large\n",
      "4     20-25       middle        very large\n",
      "5     20-25          low             small\n",
      "✅ OneHotEncoder sauvegardé sous 'models/onehot_encoder.pkl'\n",
      "✅ StandardScaler sauvegardé sous 'models/scaler.pkl'\n"
     ]
    }
   ],
   "source": [
    "\n",
    "# 🔹 Définir le dossier où enregistrer les modèles\n",
    "MODEL_DIR = \"models\"\n",
    "os.makedirs(MODEL_DIR, exist_ok=True)  # Crée le dossier s'il n'existe pas\n",
    "\n",
    "# 🔹 Charger les données\n",
    "data = pd.read_csv(\"C:/Users/grego/Documents/USPN M2/8 RISQUE DE CREDIT/Projet/Data/credit_risk_dataset.csv\")\n",
    "\n",
    "# 🔹 Suppression des valeurs aberrantes\n",
    "data = data[data['person_age'] <= 80]  # Garde les âges <= 80 ans\n",
    "data = data[data['person_emp_length'] <= 60]  # Garde les emplois <= 60 ans\n",
    "data.dropna(inplace=True)  # Supprime les lignes avec valeurs manquantes\n",
    "\n",
    "# 🔹 Création de nouvelles features catégoriques\n",
    "data['age_group'] = pd.cut(data['person_age'], bins=[20, 26, 36, 46, 56, 66], labels=['20-25', '26-35', '36-45', '46-55', '56-65'])\n",
    "data['income_group'] = pd.cut(data['person_income'], bins=[0, 25000, 50000, 75000, 100000, float('inf')], labels=['low', 'low-middle', 'middle', 'high-middle', 'high'])\n",
    "data['loan_amount_group'] = pd.cut(data['loan_amnt'], bins=[0, 5000, 10000, 15000, float('inf')], labels=['small', 'medium', 'large', 'very large'])\n",
    "\n",
    "# 🔹 Vérification de la présence des nouvelles colonnes\n",
    "print(\"✅ Colonnes créées avec succès !\")\n",
    "print(data[['age_group', 'income_group', 'loan_amount_group']].head())\n",
    "\n",
    "# 🔹 Définition des colonnes à encoder (🚨 `loan_grade` SUPPRIMÉ)\n",
    "ohe_columns = ['cb_person_default_on_file', 'person_home_ownership', 'loan_intent', 'income_group', 'age_group', 'loan_amount_group']\n",
    "\n",
    "# 🔹 Entraînement du OneHotEncoder\n",
    "ohe = OneHotEncoder(handle_unknown='ignore', sparse_output=False)\n",
    "ohe.fit(data[ohe_columns])\n",
    "\n",
    "# 🔹 Sauvegarde du OneHotEncoder\n",
    "joblib.dump(ohe, os.path.join(MODEL_DIR, \"onehot_encoder.pkl\"))\n",
    "print(\"✅ OneHotEncoder sauvegardé sous 'models/onehot_encoder.pkl'\")\n",
    "\n",
    "# 🔹 Création des nouvelles features numériques\n",
    "data['loan_to_income_ratio'] = data['loan_amnt'] / data['person_income']\n",
    "data['loan_to_emp_length_ratio'] = data['person_emp_length'] / data['loan_amnt']\n",
    "data['int_rate_to_loan_amt_ratio'] = data['loan_int_rate'] / data['loan_amnt']\n",
    "\n",
    "# 🔹 Définition des colonnes numériques à normaliser\n",
    "normal_cols = ['person_income', 'person_age', 'person_emp_length', 'loan_amnt', 'loan_int_rate',\n",
    "               'cb_person_cred_hist_length', 'loan_percent_income', 'loan_to_income_ratio', \n",
    "               'loan_to_emp_length_ratio', 'int_rate_to_loan_amt_ratio']\n",
    "\n",
    "# 🔹 Entraînement du StandardScaler\n",
    "scaler = StandardScaler()\n",
    "scaler.fit(data[normal_cols])\n",
    "\n",
    "# 🔹 Sauvegarde du StandardScaler\n",
    "joblib.dump(scaler, os.path.join(MODEL_DIR, \"scaler.pkl\"))\n",
    "print(\"✅ StandardScaler sauvegardé sous 'models/scaler.pkl'\")\n"
   ]
  },
  {
   "cell_type": "code",
   "execution_count": 3,
   "id": "0962f404-7fcc-47a4-9f4d-dda29bd637e0",
   "metadata": {},
   "outputs": [
    {
     "name": "stdout",
     "output_type": "stream",
     "text": [
      "📊 Taille du jeu d'entraînement : (22904, 17)\n",
      "📊 Taille du jeu de test : (5727, 17)\n",
      "✅ X_train_final shape: (22904, 37)\n",
      "✅ X_test_final shape: (5727, 37)\n",
      "🎯 Précision du modèle XGBoost : 0.9265\n",
      "✅ Modèle sauvegardé sous 'models/xgboost_credit_risk.pkl'\n"
     ]
    },
    {
     "name": "stderr",
     "output_type": "stream",
     "text": [
      "C:\\Users\\grego\\anaconda3\\Lib\\site-packages\\xgboost\\core.py:158: UserWarning: [21:41:43] WARNING: C:\\buildkite-agent\\builds\\buildkite-windows-cpu-autoscaling-group-i-0c55ff5f71b100e98-1\\xgboost\\xgboost-ci-windows\\src\\learner.cc:740: \n",
      "Parameters: { \"use_label_encoder\" } are not used.\n",
      "\n",
      "  warnings.warn(smsg, UserWarning)\n"
     ]
    }
   ],
   "source": [
    "\n",
    "# 🔹 Séparation des données en features (X) et target (y)\n",
    "X = data.drop(columns=['loan_status'])\n",
    "y = data['loan_status']\n",
    "\n",
    "# 🔹 Division en train/test\n",
    "X_train, X_test, y_train, y_test = train_test_split(X, y, test_size=0.2, random_state=12)\n",
    "print(f\"📊 Taille du jeu d'entraînement : {X_train.shape}\")\n",
    "print(f\"📊 Taille du jeu de test : {X_test.shape}\")\n",
    "\n",
    "# 🔹 Transformation des données (OneHotEncoding + Normalisation)\n",
    "X_train_encoded = pd.DataFrame(ohe.transform(X_train[ohe_columns]), columns=ohe.get_feature_names_out())\n",
    "X_test_encoded = pd.DataFrame(ohe.transform(X_test[ohe_columns]), columns=ohe.get_feature_names_out())\n",
    "\n",
    "X_train_scaled = pd.DataFrame(scaler.transform(X_train[normal_cols]), columns=normal_cols)\n",
    "X_test_scaled = pd.DataFrame(scaler.transform(X_test[normal_cols]), columns=normal_cols)\n",
    "\n",
    "# 🔹 Fusion des features encodées et normalisées\n",
    "X_train_final = pd.concat([X_train_encoded, X_train_scaled], axis=1)\n",
    "X_test_final = pd.concat([X_test_encoded, X_test_scaled], axis=1)\n",
    "\n",
    "# 🔹 Vérification des dimensions avant entraînement du modèle\n",
    "print(f\"✅ X_train_final shape: {X_train_final.shape}\")\n",
    "print(f\"✅ X_test_final shape: {X_test_final.shape}\")\n",
    "\n",
    "# 🔹 Définition du modèle XGBoost\n",
    "xgb_model = xgb.XGBClassifier(\n",
    "    objective=\"binary:logistic\",\n",
    "    eval_metric=\"logloss\",\n",
    "    max_depth=6,\n",
    "    learning_rate=0.1,\n",
    "    n_estimators=100\n",
    ")\n",
    "\n",
    "# 🔹 Entraînement du modèle XGBoost\n",
    "xgb_model.fit(X_train_final, y_train)\n",
    "\n",
    "# 🔹 Prédictions et évaluation\n",
    "y_pred = xgb_model.predict(X_test_final)\n",
    "accuracy = accuracy_score(y_test, y_pred)\n",
    "print(f\"🎯 Précision du modèle XGBoost : {accuracy:.4f}\")\n",
    "\n",
    "# 🔹 Sauvegarde du modèle\n",
    "joblib.dump(xgb_model, os.path.join(MODEL_DIR, \"xgboost_credit_risk.pkl\"))\n",
    "print(\"✅ Modèle sauvegardé sous 'models/xgboost_credit_risk.pkl'\")\n",
    "\n"
   ]
  },
  {
   "cell_type": "code",
   "execution_count": null,
   "id": "0c40a5f8-c97b-4e22-a9d8-e85c823023d0",
   "metadata": {},
   "outputs": [],
   "source": []
  }
 ],
 "metadata": {
  "kernelspec": {
   "display_name": "Python 3 (ipykernel)",
   "language": "python",
   "name": "python3"
  },
  "language_info": {
   "codemirror_mode": {
    "name": "ipython",
    "version": 3
   },
   "file_extension": ".py",
   "mimetype": "text/x-python",
   "name": "python",
   "nbconvert_exporter": "python",
   "pygments_lexer": "ipython3",
   "version": "3.11.5"
  }
 },
 "nbformat": 4,
 "nbformat_minor": 5
}
